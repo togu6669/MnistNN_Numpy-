{
 "metadata": {
  "language_info": {
   "codemirror_mode": {
    "name": "ipython",
    "version": 3
   },
   "file_extension": ".py",
   "mimetype": "text/x-python",
   "name": "python",
   "nbconvert_exporter": "python",
   "pygments_lexer": "ipython3",
   "version": "3.8.2-final"
  },
  "orig_nbformat": 2,
  "kernelspec": {
   "name": "python_defaultSpec_1599399811696",
   "display_name": "Python 3.8.2 64-bit ('SimpleNeuralNetwork': venv)"
  }
 },
 "nbformat": 4,
 "nbformat_minor": 2,
 "cells": [
  {
   "cell_type": "code",
   "execution_count": 1,
   "metadata": {},
   "outputs": [],
   "source": [
    "# TensorFlow version of MNIST recognizer\n",
    "\n",
    "# MNIST resources\n",
    "# https://www.python-course.eu/neural_network_mnist.php\n",
    "# https://www.tensorflow.org/tutorials/quickstart/beginner\n",
    "\n",
    "# NOTE\n",
    "# to run with Jupyter please add PYTHONPATH with path to the current project directory!!!\n",
    "\n",
    "import numpy as np\n",
    "import tensorflow as tf\n"
   ]
  },
  {
   "cell_type": "code",
   "execution_count": 2,
   "metadata": {
    "tags": []
   },
   "outputs": [],
   "source": [
    "# Read training images\n",
    "# labels are being read in the format (60000,) - [5, 0, 4, ..., 5, 6, 8], dtype=uint8)\n",
    "\n",
    "mnist = tf.keras.datasets.mnist\n",
    "\n",
    "(images, labels), (test_images, test_labels) = mnist.load_data()\n",
    "images, test_images = images / 255.0, test_images / 255.0\n",
    "\n",
    "# labels.shape\n",
    "# labels"
   ]
  },
  {
   "cell_type": "code",
   "execution_count": 3,
   "metadata": {},
   "outputs": [],
   "source": [
    "# initialize network layers \n",
    "model = tf.keras.models.Sequential([\n",
    "  tf.keras.layers.Flatten(input_shape=(28, 28)),\n",
    "  tf.keras.layers.Dense(128, activation='relu'),\n",
    "  tf.keras.layers.Dropout(0.2),\n",
    "  tf.keras.layers.Dense(10)\n",
    "])\n",
    "\n",
    "# model = tf.keras.models.Sequential([\n",
    "#   tf.keras.layers.Flatten(input_shape=(28, 28)),\n",
    "#   tf.keras.layers.Dense(500, activation='sigmoid'),\n",
    "#   tf.keras.layers.Dense(400, activation='sigmoid'),\n",
    "#   tf.keras.layers.Dense(10, activation='sigmoid')\n",
    "# ])"
   ]
  },
  {
   "cell_type": "code",
   "execution_count": 4,
   "metadata": {},
   "outputs": [
    {
     "output_type": "execute_result",
     "data": {
      "text/plain": "array([[-0.16118792,  0.04708552, -0.37623712, -0.15443985,  0.03178751,\n        -0.650753  ,  0.26044944,  0.03529176, -0.12583902,  0.17424728]],\n      dtype=float32)"
     },
     "metadata": {},
     "execution_count": 4
    }
   ],
   "source": [
    "predictions = model(images[:1]).numpy()\n",
    "predictions\n"
   ]
  },
  {
   "cell_type": "code",
   "execution_count": 6,
   "metadata": {},
   "outputs": [
    {
     "output_type": "execute_result",
     "data": {
      "text/plain": "array([[0.66855603, 0.65228945, 0.69054747, 0.5712117 , 0.5816114 ,\n        0.62709886, 0.63431716, 0.6591759 , 0.6127938 , 0.6237038 ]],\n      dtype=float32)"
     },
     "metadata": {},
     "execution_count": 6
    }
   ],
   "source": [
    "# tf.nn.sigmoid(predictions).numpy()\n",
    "# tf.nn.softmax(predictions).numpy()\n",
    "# tf.nn.softplus(predictions).numpy()"
   ]
  },
  {
   "cell_type": "code",
   "execution_count": 6,
   "metadata": {},
   "outputs": [
    {
     "output_type": "execute_result",
     "data": {
      "text/plain": "2.8916936"
     },
     "metadata": {},
     "execution_count": 6
    }
   ],
   "source": [
    "loss_fn = tf.keras.losses.SparseCategoricalCrossentropy(from_logits=True)\n",
    "loss_fn(labels[:1], predictions).numpy()"
   ]
  },
  {
   "cell_type": "code",
   "execution_count": 11,
   "metadata": {},
   "outputs": [],
   "source": [
    "model.compile(optimizer='adam',\n",
    "              loss=loss_fn,\n",
    "              metrics=['accuracy'])\n",
    "# model.compile(optimizer='SGD',\n",
    "#               loss=loss_fn,\n",
    "#               metrics=['accuracy'])"
   ]
  },
  {
   "cell_type": "code",
   "execution_count": 12,
   "metadata": {
    "tags": []
   },
   "outputs": [
    {
     "output_type": "stream",
     "name": "stdout",
     "text": "Epoch 1/5\n1875/1875 [==============================] - 3s 1ms/step - loss: 0.1921 - accuracy: 0.9429\nEpoch 2/5\n1875/1875 [==============================] - 2s 1ms/step - loss: 0.1203 - accuracy: 0.9639\nEpoch 3/5\n1875/1875 [==============================] - 3s 1ms/step - loss: 0.0949 - accuracy: 0.9706\nEpoch 4/5\n1875/1875 [==============================] - 3s 1ms/step - loss: 0.0783 - accuracy: 0.9752\nEpoch 5/5\n1875/1875 [==============================] - 3s 1ms/step - loss: 0.0669 - accuracy: 0.9788\n"
    },
    {
     "output_type": "execute_result",
     "data": {
      "text/plain": "<tensorflow.python.keras.callbacks.History at 0x24e69b65b20>"
     },
     "metadata": {},
     "execution_count": 12
    }
   ],
   "source": [
    "model.fit(images, labels, epochs=5)"
   ]
  },
  {
   "cell_type": "code",
   "execution_count": 13,
   "metadata": {
    "tags": []
   },
   "outputs": [
    {
     "output_type": "stream",
     "name": "stdout",
     "text": "1875/1875 - 2s - loss: 0.0358 - accuracy: 0.9885\n"
    },
    {
     "output_type": "execute_result",
     "data": {
      "text/plain": "[0.03581128641963005, 0.9884833097457886]"
     },
     "metadata": {},
     "execution_count": 13
    }
   ],
   "source": [
    "model.evaluate(images,  labels, verbose=2)"
   ]
  },
  {
   "cell_type": "code",
   "execution_count": 1,
   "metadata": {
    "tags": []
   },
   "outputs": [
    {
     "output_type": "stream",
     "name": "stdout",
     "text": "[name: \"/device:CPU:0\"\ndevice_type: \"CPU\"\nmemory_limit: 268435456\nlocality {\n}\nincarnation: 11846028805942784609\n, name: \"/device:XLA_CPU:0\"\ndevice_type: \"XLA_CPU\"\nmemory_limit: 17179869184\nlocality {\n}\nincarnation: 12141119864271104300\nphysical_device_desc: \"device: XLA_CPU device\"\n, name: \"/device:XLA_GPU:0\"\ndevice_type: \"XLA_GPU\"\nmemory_limit: 17179869184\nlocality {\n}\nincarnation: 2568405796776545723\nphysical_device_desc: \"device: XLA_GPU device\"\n]\n"
    }
   ],
   "source": []
  },
  {
   "cell_type": "code",
   "execution_count": null,
   "metadata": {},
   "outputs": [],
   "source": []
  }
 ]
}